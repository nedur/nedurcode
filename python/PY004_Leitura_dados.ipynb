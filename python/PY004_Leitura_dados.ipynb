{
 "cells": [
  {
   "cell_type": "markdown",
   "metadata": {},
   "source": [
    "# <NEDUR/code> PY004 - Leitura de dados\n",
    "\n",
    "O principal pacote para leitura de bases de dados no Python é o pandas. \n",
    "\n",
    "Se você não tem o pandas instalado ainda, será preciso instalar com o seguinte comando: \n",
    "\n",
    "    !pip install pandas\n",
    "\n",
    "Se o pandas já estiver instalado ou logo após a instalação, você pode ler a biblioteca usando: "
   ]
  },
  {
   "cell_type": "code",
   "execution_count": 1,
   "metadata": {},
   "outputs": [],
   "source": [
    "import pandas as pd"
   ]
  },
  {
   "cell_type": "markdown",
   "metadata": {},
   "source": [
    "## Dados\n",
    "\n",
    "Para testar, use os dados disponíveis nos links abaixo:\n",
    "\n",
    "www.nedurcode.com/nedurcode/Dados.csv\n",
    "\n",
    "www.nedurcode.com/nedurcode/Dados.xlsx\n",
    "\n",
    "www.nedurcode.com/nedurcode/Dados.dta"
   ]
  },
  {
   "cell_type": "markdown",
   "metadata": {},
   "source": [
    "## Arquivos .csv\n",
    "\n",
    "Para ler arquivos do tipo .csv, você pode usar a função `pd.read_csv()`:"
   ]
  },
  {
   "cell_type": "code",
   "execution_count": 2,
   "metadata": {},
   "outputs": [],
   "source": [
    "dados = pd.read_csv(\"Dados.csv\", sep=';')"
   ]
  },
  {
   "cell_type": "markdown",
   "metadata": {},
   "source": [
    "## Arquivos .xlsx\n",
    "\n",
    "Para ler arquivos de Excel, você pode usar a função `pd.read_excel()`:"
   ]
  },
  {
   "cell_type": "code",
   "execution_count": null,
   "metadata": {},
   "outputs": [],
   "source": [
    "dados = pd.read_excel(\"Dados.xlsx\")"
   ]
  },
  {
   "cell_type": "markdown",
   "metadata": {},
   "source": [
    "## Arquivos .dta\n",
    "\n",
    "Para ler arquivos do tipo .dta, criados no Stata, você pode usar a função `pd.read_stata()`:"
   ]
  },
  {
   "cell_type": "code",
   "execution_count": 10,
   "metadata": {},
   "outputs": [],
   "source": [
    "dados = pd.read_stata(\"Dados.dta\")"
   ]
  }
 ],
 "metadata": {
  "kernelspec": {
   "display_name": "Python 3",
   "language": "python",
   "name": "python3"
  },
  "language_info": {
   "codemirror_mode": {
    "name": "ipython",
    "version": 3
   },
   "file_extension": ".py",
   "mimetype": "text/x-python",
   "name": "python",
   "nbconvert_exporter": "python",
   "pygments_lexer": "ipython3",
   "version": "3.8.5"
  }
 },
 "nbformat": 4,
 "nbformat_minor": 5
}
