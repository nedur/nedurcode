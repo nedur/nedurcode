{
 "cells": [
  {
   "cell_type": "markdown",
   "id": "e5b5492b",
   "metadata": {},
   "source": [
    "# <NEDUR/code> PY005 - Leitura de Dados do SIDRA (IBGE)\n",
    "\n",
    "Para fazer a leitura dos dados SIDRA do IBGE em Python, você precisa instalar a biblioteca `sidrapy`(https://pypi.org/project/sidrapy/). \n",
    "\n",
    "Com o notebook aberto, você pode utilizar o seguinte comando:"
   ]
  },
  {
   "cell_type": "code",
   "execution_count": 1,
   "id": "c3c9ad3d",
   "metadata": {},
   "outputs": [
    {
     "name": "stdout",
     "output_type": "stream",
     "text": [
      "Requirement already satisfied: sidrapy in c:\\users\\kenia\\anaconda3\\lib\\site-packages (0.1.3)\n",
      "Requirement already satisfied: requests in c:\\users\\kenia\\anaconda3\\lib\\site-packages (from sidrapy) (2.27.1)\n",
      "Requirement already satisfied: pandas in c:\\users\\kenia\\anaconda3\\lib\\site-packages (from sidrapy) (1.4.2)\n",
      "Requirement already satisfied: numpy>=1.18.5 in c:\\users\\kenia\\anaconda3\\lib\\site-packages (from pandas->sidrapy) (1.21.5)\n",
      "Requirement already satisfied: python-dateutil>=2.8.1 in c:\\users\\kenia\\anaconda3\\lib\\site-packages (from pandas->sidrapy) (2.8.2)\n",
      "Requirement already satisfied: pytz>=2020.1 in c:\\users\\kenia\\anaconda3\\lib\\site-packages (from pandas->sidrapy) (2021.3)\n",
      "Requirement already satisfied: six>=1.5 in c:\\users\\kenia\\anaconda3\\lib\\site-packages (from python-dateutil>=2.8.1->pandas->sidrapy) (1.16.0)\n",
      "Requirement already satisfied: urllib3<1.27,>=1.21.1 in c:\\users\\kenia\\anaconda3\\lib\\site-packages (from requests->sidrapy) (1.26.9)\n",
      "Requirement already satisfied: certifi>=2017.4.17 in c:\\users\\kenia\\anaconda3\\lib\\site-packages (from requests->sidrapy) (2021.10.8)\n",
      "Requirement already satisfied: charset-normalizer~=2.0.0 in c:\\users\\kenia\\anaconda3\\lib\\site-packages (from requests->sidrapy) (2.0.4)\n",
      "Requirement already satisfied: idna<4,>=2.5 in c:\\users\\kenia\\anaconda3\\lib\\site-packages (from requests->sidrapy) (3.3)\n"
     ]
    }
   ],
   "source": [
    "!pip install -U sidrapy"
   ]
  },
  {
   "cell_type": "markdown",
   "id": "dffdf548",
   "metadata": {},
   "source": [
    "Para ler a biblioteca após instalação, utilize:"
   ]
  },
  {
   "cell_type": "code",
   "execution_count": 4,
   "id": "970f363e",
   "metadata": {},
   "outputs": [],
   "source": [
    "import sidrapy"
   ]
  },
  {
   "cell_type": "markdown",
   "id": "c7b789d9",
   "metadata": {},
   "source": [
    "Para importar os dados, basta usar a função `sidrapy.get_table()`. \n",
    "\n",
    "Vamos exemplificar com uma tabela para o PIB brasileiro: "
   ]
  },
  {
   "cell_type": "code",
   "execution_count": 9,
   "id": "55e6b523",
   "metadata": {},
   "outputs": [],
   "source": [
    "PIB = sidrapy.get_table(\n",
    "    table_code = \"6784\", # Informa qual será a tabela SIDRA\n",
    "    territorial_level = \"1\", # Informa qual será a região. 1 para Brasil; 2, grandes regiões; 3, Unidades da Federação\n",
    "    ibge_territorial_code = \"all\", # Código territorial, all para incluir todos da seleção\n",
    "    variable = \"9808\", # Seleciona a variável de interesse, nesse caso PIB\n",
    "    period = \"2017-2019\") # Seleciona o período dos dados"
   ]
  },
  {
   "cell_type": "markdown",
   "id": "0fdc6b68",
   "metadata": {},
   "source": [
    "Repare que nessa tabela os nomes das variáveis aparecem na linha zero. Para ajustar esse problema, vamos primeiro substituir o nome das colunas pelas informações da linha zero, e depois remover a linha zero, conforme o código a seguir: "
   ]
  },
  {
   "cell_type": "code",
   "execution_count": 10,
   "id": "520abff0",
   "metadata": {},
   "outputs": [],
   "source": [
    "PIB.columns = PIB.iloc[0] \n",
    "PIB = PIB[1:]"
   ]
  },
  {
   "cell_type": "markdown",
   "id": "ef0d8977",
   "metadata": {},
   "source": [
    "Agora, podemos novamente visualizar os dados: "
   ]
  },
  {
   "cell_type": "code",
   "execution_count": 11,
   "id": "ef935eaf",
   "metadata": {},
   "outputs": [
    {
     "data": {
      "text/html": [
       "<div>\n",
       "<style scoped>\n",
       "    .dataframe tbody tr th:only-of-type {\n",
       "        vertical-align: middle;\n",
       "    }\n",
       "\n",
       "    .dataframe tbody tr th {\n",
       "        vertical-align: top;\n",
       "    }\n",
       "\n",
       "    .dataframe thead th {\n",
       "        text-align: right;\n",
       "    }\n",
       "</style>\n",
       "<table border=\"1\" class=\"dataframe\">\n",
       "  <thead>\n",
       "    <tr style=\"text-align: right;\">\n",
       "      <th></th>\n",
       "      <th>Nível Territorial (Código)</th>\n",
       "      <th>Nível Territorial</th>\n",
       "      <th>Unidade de Medida (Código)</th>\n",
       "      <th>Unidade de Medida</th>\n",
       "      <th>Valor</th>\n",
       "      <th>Brasil (Código)</th>\n",
       "      <th>Brasil</th>\n",
       "      <th>Ano (Código)</th>\n",
       "      <th>Ano</th>\n",
       "      <th>Variável (Código)</th>\n",
       "      <th>Variável</th>\n",
       "    </tr>\n",
       "  </thead>\n",
       "  <tbody>\n",
       "    <tr>\n",
       "      <th>1</th>\n",
       "      <td>1</td>\n",
       "      <td>Brasil</td>\n",
       "      <td>1550</td>\n",
       "      <td>Milhões de Reais</td>\n",
       "      <td>6585479</td>\n",
       "      <td>1</td>\n",
       "      <td>Brasil</td>\n",
       "      <td>2017</td>\n",
       "      <td>2017</td>\n",
       "      <td>9808</td>\n",
       "      <td>PIB - valores correntes</td>\n",
       "    </tr>\n",
       "    <tr>\n",
       "      <th>2</th>\n",
       "      <td>1</td>\n",
       "      <td>Brasil</td>\n",
       "      <td>1550</td>\n",
       "      <td>Milhões de Reais</td>\n",
       "      <td>7004141</td>\n",
       "      <td>1</td>\n",
       "      <td>Brasil</td>\n",
       "      <td>2018</td>\n",
       "      <td>2018</td>\n",
       "      <td>9808</td>\n",
       "      <td>PIB - valores correntes</td>\n",
       "    </tr>\n",
       "    <tr>\n",
       "      <th>3</th>\n",
       "      <td>1</td>\n",
       "      <td>Brasil</td>\n",
       "      <td>1550</td>\n",
       "      <td>Milhões de Reais</td>\n",
       "      <td>7389131</td>\n",
       "      <td>1</td>\n",
       "      <td>Brasil</td>\n",
       "      <td>2019</td>\n",
       "      <td>2019</td>\n",
       "      <td>9808</td>\n",
       "      <td>PIB - valores correntes</td>\n",
       "    </tr>\n",
       "  </tbody>\n",
       "</table>\n",
       "</div>"
      ],
      "text/plain": [
       "0 Nível Territorial (Código) Nível Territorial Unidade de Medida (Código)  \\\n",
       "1                          1            Brasil                       1550   \n",
       "2                          1            Brasil                       1550   \n",
       "3                          1            Brasil                       1550   \n",
       "\n",
       "0 Unidade de Medida    Valor Brasil (Código)  Brasil Ano (Código)   Ano  \\\n",
       "1  Milhões de Reais  6585479               1  Brasil         2017  2017   \n",
       "2  Milhões de Reais  7004141               1  Brasil         2018  2018   \n",
       "3  Milhões de Reais  7389131               1  Brasil         2019  2019   \n",
       "\n",
       "0 Variável (Código)                 Variável  \n",
       "1              9808  PIB - valores correntes  \n",
       "2              9808  PIB - valores correntes  \n",
       "3              9808  PIB - valores correntes  "
      ]
     },
     "execution_count": 11,
     "metadata": {},
     "output_type": "execute_result"
    }
   ],
   "source": [
    "PIB"
   ]
  }
 ],
 "metadata": {
  "kernelspec": {
   "display_name": "Python 3 (ipykernel)",
   "language": "python",
   "name": "python3"
  },
  "language_info": {
   "codemirror_mode": {
    "name": "ipython",
    "version": 3
   },
   "file_extension": ".py",
   "mimetype": "text/x-python",
   "name": "python",
   "nbconvert_exporter": "python",
   "pygments_lexer": "ipython3",
   "version": "3.9.12"
  }
 },
 "nbformat": 4,
 "nbformat_minor": 5
}
