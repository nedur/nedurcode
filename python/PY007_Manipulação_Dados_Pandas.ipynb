{
 "cells": [
  {
   "cell_type": "markdown",
   "id": "b645ee49",
   "metadata": {},
   "source": [
    "# <NEDUR/code> PY007 - Manipulação de dados com Pandas\n"
   ]
  },
  {
   "cell_type": "markdown",
   "id": "a785db89",
   "metadata": {},
   "source": [
    "Caso não tenha instalado o pacote pandas, utilize o seguinte comando: "
   ]
  },
  {
   "cell_type": "code",
   "execution_count": null,
   "id": "cc05fc78",
   "metadata": {},
   "outputs": [],
   "source": [
    "!pip install pandas"
   ]
  },
  {
   "cell_type": "markdown",
   "id": "3689f42d",
   "metadata": {},
   "source": [
    "Para importar o pandas, use:"
   ]
  },
  {
   "cell_type": "code",
   "execution_count": null,
   "id": "e3091eda",
   "metadata": {},
   "outputs": [],
   "source": [
    "import pandas as pd"
   ]
  },
  {
   "cell_type": "markdown",
   "id": "04a14c26",
   "metadata": {},
   "source": [
    "Crie a seguinte tabela de dados:"
   ]
  },
  {
   "cell_type": "code",
   "execution_count": null,
   "id": "86f9a4f9",
   "metadata": {},
   "outputs": [],
   "source": [
    "dados = pd.DataFrame(data={'REG' : [\"A\", \"B\", \"C\", \"A\", \"B\", \"C\"],\n",
    "  'ANO' : [2020, 2020, 2020, 2021, 2021, 2021],\n",
    "  'PIB' : [100, 200, 150, 130, 195, 155],\n",
    "  'POP' : [10, 12, 9, 10.5, 12.3, 9]\n",
    "})"
   ]
  },
  {
   "cell_type": "markdown",
   "id": "80bcad5a",
   "metadata": {},
   "source": [
    "Para visualizar os dados, utilize o nome da Data Frame criada: "
   ]
  },
  {
   "cell_type": "code",
   "execution_count": null,
   "id": "b1fd372e",
   "metadata": {},
   "outputs": [],
   "source": [
    "dados"
   ]
  },
  {
   "cell_type": "markdown",
   "id": "faa6bc01",
   "metadata": {},
   "source": [
    "## Exemplos de manipulação dos dados\n",
    "\n",
    "Para criar uma nova coluna com o PIB per capita, basta informar o nome da coluna (PIBpc) e a operação desejada com as colunas existentes: "
   ]
  },
  {
   "cell_type": "code",
   "execution_count": null,
   "id": "63a691f6",
   "metadata": {},
   "outputs": [],
   "source": [
    "dados[\"PIBpc\"] = dados[\"PIB\"]/dados[\"POP\"]"
   ]
  },
  {
   "cell_type": "code",
   "execution_count": null,
   "id": "da392d26",
   "metadata": {},
   "outputs": [],
   "source": [
    "dados"
   ]
  },
  {
   "cell_type": "markdown",
   "id": "4ee9f5e7",
   "metadata": {},
   "source": [
    "Para selecionar apenas uma parte dos dados, criando uma nova Data Frame com o nome dadospc, podemos utilizar: "
   ]
  },
  {
   "cell_type": "code",
   "execution_count": null,
   "id": "1ea618b1",
   "metadata": {},
   "outputs": [],
   "source": [
    "dadospc = dados[[\"REG\",\"ANO\",\"PIBpc\"]]"
   ]
  },
  {
   "cell_type": "code",
   "execution_count": null,
   "id": "b19448f8",
   "metadata": {},
   "outputs": [],
   "source": [
    "dadospc"
   ]
  },
  {
   "cell_type": "markdown",
   "id": "d25f8569",
   "metadata": {},
   "source": [
    "Agora vamos criar uma nova Data Frame, apenas com as informações referentes à 2020. Ou seja, vamos selecionar algumas linhas dos dados, com base em algum critério: "
   ]
  },
  {
   "cell_type": "code",
   "execution_count": null,
   "id": "bf37f142",
   "metadata": {},
   "outputs": [],
   "source": [
    "dados2020 = dados[dados[\"ANO\"] == 2020]"
   ]
  },
  {
   "cell_type": "code",
   "execution_count": null,
   "id": "1d63e281",
   "metadata": {},
   "outputs": [],
   "source": [
    "dados2020"
   ]
  },
  {
   "cell_type": "markdown",
   "id": "6ba08ade",
   "metadata": {},
   "source": [
    "Agora vamos calcular algumas **estatísticas**. \n",
    "\n",
    "Por exemplo, para obtermos a média do PIB per capita, podemos utilizar a função `mean()`:"
   ]
  },
  {
   "cell_type": "code",
   "execution_count": null,
   "id": "51856fb4",
   "metadata": {},
   "outputs": [],
   "source": [
    "dados_med = dados[\"PIBpc\"].mean()"
   ]
  },
  {
   "cell_type": "code",
   "execution_count": null,
   "id": "186a60fd",
   "metadata": {},
   "outputs": [],
   "source": [
    "dados_med"
   ]
  },
  {
   "cell_type": "markdown",
   "id": "71306b33",
   "metadata": {},
   "source": [
    "De forma similar, você pode obter valores como o desvio padrão `std()`, máximo`max()` ou mínimo `min()` de uma coluna. Caso você não queira salvar essa informação (apenas visualizá-la), basta não atribuir um nome a variável:"
   ]
  },
  {
   "cell_type": "code",
   "execution_count": null,
   "id": "2067a435",
   "metadata": {},
   "outputs": [],
   "source": [
    "dados[\"PIBpc\"].std()"
   ]
  },
  {
   "cell_type": "code",
   "execution_count": null,
   "id": "d36e00ef",
   "metadata": {},
   "outputs": [],
   "source": [
    "dados[\"PIBpc\"].max()"
   ]
  },
  {
   "cell_type": "code",
   "execution_count": null,
   "id": "f4eaf33b",
   "metadata": {},
   "outputs": [],
   "source": [
    "dados[\"PIBpc\"].min()"
   ]
  },
  {
   "cell_type": "markdown",
   "id": "0468ae44",
   "metadata": {},
   "source": [
    "Podemos combinar qualquer uma dessas funções com a função `groupby()` para obter estatísticas por grupo: "
   ]
  },
  {
   "cell_type": "code",
   "execution_count": null,
   "id": "17bf94ee",
   "metadata": {},
   "outputs": [],
   "source": [
    "dados_med = dados.groupby([\"REG\"], as_index = False)[\"PIBpc\"].mean()"
   ]
  },
  {
   "cell_type": "markdown",
   "id": "18e4ad37",
   "metadata": {},
   "source": [
    "Dúvidas sobre como utilizar a função `mean()`? Utilize o código abaixo para verificar todos os argumentos dessa função: "
   ]
  },
  {
   "cell_type": "code",
   "execution_count": null,
   "id": "bb30df4a",
   "metadata": {},
   "outputs": [],
   "source": [
    "?pd.DataFrame.mean"
   ]
  },
  {
   "cell_type": "markdown",
   "id": "7b9288a9",
   "metadata": {},
   "source": [
    "Ou: "
   ]
  },
  {
   "cell_type": "code",
   "execution_count": null,
   "id": "a2553288",
   "metadata": {},
   "outputs": [],
   "source": [
    "help(pd.DataFrame.mean)"
   ]
  },
  {
   "cell_type": "code",
   "execution_count": null,
   "id": "b3560f62",
   "metadata": {},
   "outputs": [],
   "source": [
    "dados_med"
   ]
  },
  {
   "cell_type": "markdown",
   "id": "fe703d17",
   "metadata": {},
   "source": [
    "Observe que dentro da função, foi utilizado o argumento **as_index = False**. Se não utilizarmos esse argumento, o pandas vai entender que a coluna **REG** corresponde ao índice dos dados, e não irá criar a sequência de 0 a 2 observada na Data Frame acima. \n",
    "\n",
    "Para terminar as dicas de hoje, podemos usar usar a função `sort_values`, para ordenar os dados de acordo com alguma das colunas: "
   ]
  },
  {
   "cell_type": "code",
   "execution_count": null,
   "id": "aedac0f6",
   "metadata": {},
   "outputs": [],
   "source": [
    "dados.sort_values(by=['PIBpc'])"
   ]
  },
  {
   "cell_type": "markdown",
   "id": "0ebc653c",
   "metadata": {},
   "source": [
    "Observe que o padrão da função é a ordenação por ordem crescente, para ordenar na ordem inversa, basta incluir o argumento **ascending=False**, como abaixo:"
   ]
  },
  {
   "cell_type": "code",
   "execution_count": null,
   "id": "e57c2898",
   "metadata": {},
   "outputs": [],
   "source": [
    "dados.sort_values(by=['PIBpc'], ascending=False)"
   ]
  }
 ],
 "metadata": {
  "kernelspec": {
   "display_name": "Python 3 (ipykernel)",
   "language": "python",
   "name": "python3"
  },
  "language_info": {
   "codemirror_mode": {
    "name": "ipython",
    "version": 3
   },
   "file_extension": ".py",
   "mimetype": "text/x-python",
   "name": "python",
   "nbconvert_exporter": "python",
   "pygments_lexer": "ipython3",
   "version": "3.9.12"
  }
 },
 "nbformat": 4,
 "nbformat_minor": 5
}
